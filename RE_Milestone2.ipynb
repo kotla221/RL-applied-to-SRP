{
  "nbformat": 4,
  "nbformat_minor": 0,
  "metadata": {
    "colab": {
      "provenance": [],
      "authorship_tag": "ABX9TyNU4z7iiCDZDxQoKwCXnRI0",
      "include_colab_link": true
    },
    "kernelspec": {
      "name": "python3",
      "display_name": "Python 3"
    },
    "language_info": {
      "name": "python"
    }
  },
  "cells": [
    {
      "cell_type": "markdown",
      "metadata": {
        "id": "view-in-github",
        "colab_type": "text"
      },
      "source": [
        "<a href=\"https://colab.research.google.com/github/kotla221/RL-applied-to-SRP/blob/main/RE_Milestone2.ipynb\" target=\"_parent\"><img src=\"https://colab.research.google.com/assets/colab-badge.svg\" alt=\"Open In Colab\"/></a>"
      ]
    },
    {
      "cell_type": "markdown",
      "source": [
        "**Data Preparation:**\n",
        "Collect historical data on user interactions with video conferencing features.\n",
        "Create a user-item interaction matrix where rows represent users, columns represent features, and values indicate user preferences or ratings for each feature.\n",
        "\n",
        "\n"
      ],
      "metadata": {
        "id": "k6A8Vz9Us_Du"
      }
    },
    {
      "cell_type": "code",
      "source": [
        "import pandas as pd\n"
      ],
      "metadata": {
        "id": "CtvTsMIztCqm"
      },
      "execution_count": null,
      "outputs": []
    },
    {
      "cell_type": "markdown",
      "source": [
        "Let's organize and categorize these features for better clarity:\n",
        "re-constructing the data into 2 columns known as Features and Description.\n",
        "\n",
        "For Example:\n",
        "\n",
        "**Desktop Client Settings:**\n",
        "Advanced Video Settings: Configuration settings for video rendering post-processing and capturing methods.\n",
        "\n",
        "**Desktop Client Notifications:** Controls to manage notifications for new recording availability and updates.\n",
        "\n",
        "**Meeting and Webinar Enhancements:**\n",
        "Annotation Toolbar Accessibility: Improved accessibility to the annotations toolbar during shared content viewing.\n",
        "Speaker Attribution in Captions: Captions display the speaker's profile picture or initials and provide full speaker names in transcripts.\n",
        "Automated Caption Controls: Hosts can disable automated captions during live meetings/webinars.\n"
      ],
      "metadata": {
        "id": "wbGd9NujtX33"
      }
    },
    {
      "cell_type": "code",
      "source": [
        "# Creating a DataFrame from the provided dataset\n",
        "data = {\n",
        "    'Feature': [Desktop Client Settings,Desktop Client Notifications,Meeting and Webinar Enhancements,...],  # List of feature names\n",
        "    'Description': [\"Configuration settings for video rendering\",\"Controls to manage notifications for new recording availability and updates.\"],  # List of feature descriptions\n",
        "\n",
        "}\n",
        "\n",
        "df = pd.DataFrame(data)\n",
        "# Perform any required data cleaning, encoding, or feature extraction"
      ],
      "metadata": {
        "id": "vWNbsRPQtuJp"
      },
      "execution_count": null,
      "outputs": []
    },
    {
      "cell_type": "markdown",
      "source": [
        "Creating a matrix from actual user data would require access to detailed user preferences or feature usage patterns, which I don't have access to. However, I can create a simulated matrix based on the provided categorized features and assume user preferences randomly.\n",
        "\n",
        "Let's say we have 10 users and 50 features. I'll generate a matrix of 10 users and 50 features with randomly assigned 1s and 0s to simulate user preferences for these features.\n"
      ],
      "metadata": {
        "id": "ctHXsVEouFpH"
      }
    },
    {
      "cell_type": "markdown",
      "source": [
        "| Users / Features         | Desktop Client Settings | Meeting and Webinar Enhancements | Q&A, Polls, and Interactions | Joining and Interface Changes | Zoom Mail and Contact Integration | Zoom Contact Center and Supervisor/Agent Functions | Enterprise Auto Update Policies | Captioning Enhancements | Integrated Email and Calendaring | Language Support and SSO Enhancements | Improved In-Meeting Features | Zoom Contact Center and Engagement Management | Profile and Workspace Management | Miscellaneous Client Enhancements | Additional Messaging and App Integration |\n",
        "|--------------------------|------------------------|---------------------------------|-----------------------------|------------------------------|---------------------------------|--------------------------------------------|--------------------------------|-------------------------|-----------------------------------|----------------------------------------|--------------------------------|-----------------------------------------|-------------------------------|---------------------------------|--------------------------------------------|\n",
        "| User 1                   | 1                      | 0                               | 1                           | 0                            | 1                               | 0                                          | 1                              | 1                       | 0                                 | 1                                      | 0                              | 1                                       | 0                             | 1                               | 0                                          |\n",
        "| User 2                   | 0                      | 1                               | 0                           | 1                            | 0                               | 1                                          | 0                              | 0                       | 1                                 | 0                                      | 1                              | 0                                       | 1                             | 0                               | 1                                          |\n",
        "| User 3                   | 1                      | 1                               | 1                           | 1                            | 0                               | 1                                          | 1                              | 0                       | 1                                 | 1                                      | 0                              | 0                                       | 0                             | 1                               | 0                                          |\n",
        "| User 4                   | 0                      | 0                               | 1                           | 0                            | 1                               | 0                                          | 1                              | 1                       | 0                                 | 0                                      | 1                              | 1                                       | 1                             | 0                               | 1                                          |\n",
        "| User 5                   | 1                      | 0                               | 0                           | 1                            | 1                               | 1                                          | 0                              | 1                       | 1                                 | 1                                      | 0                              | 1                                       | 0                             | 1                               | 0                                          |\n",
        "| User 6                   | 0                      | 1                               | 1                           | 0                            | 0                               | 0                                          | 1                              | 0                       | 0                                 | 1                                      | 1                              | 0                                       | 1                             | 0                               | 1                                          |\n",
        "| User 7                   | 1                      | 0                               | 0                           | 1                            | 1                               | 1                                          | 0                              | 1                       | 0                                 | 0                                      | 1                              | 1                                       | 0                             | 1                               | 0                                          |\n",
        "| User 8                   | 0                      | 1                               | 1                           | 0                            | 1                               | 0                                          | 0                              | 0                       | 1                                 | 1                                      | 0                              | 0                                       | 1                             | 0                               | 1                                          |\n",
        "| User 9                   | 1                      | 0                               | 0                           | 1                            | 0                               | 1                                         \n"
      ],
      "metadata": {
        "id": "b_BKYS7LuJ0s"
      }
    },
    {
      "cell_type": "markdown",
      "source": [
        "**Data Preprocessing:**\n",
        "Matrix Processing: Normalize the matrix (from 0 to 1) to remove user biases or preferences and handle missing values.\n",
        "**Similarity Calculation:** Compute the similarity between users based on their feature preferences. Cosine similarity or Pearson correlation can be used for this purpose."
      ],
      "metadata": {
        "id": "Cdeo-XjHuoPl"
      }
    },
    {
      "cell_type": "code",
      "source": [
        "# Normalize matrix (if not already done)\n",
        "normalized_matrix = user_features / np.linalg.norm(user_features, axis=1, keepdims=True)\n",
        "\n",
        "# Calculate user-user similarity\n",
        "user_similarity = cosine_similarity(normalized_matrix)\n"
      ],
      "metadata": {
        "id": "gVp0xSPXvOtm"
      },
      "execution_count": null,
      "outputs": []
    },
    {
      "cell_type": "markdown",
      "source": [
        "**Content-Based Filtering:**\n",
        "Compute feature similarities based on content (e.g., feature descriptions).\n",
        "\n",
        "Use techniques like **TF-IDF** (Term Frequency-Inverse Document Frequency) or word embeddings (e.g., Word2Vec) to represent feature content."
      ],
      "metadata": {
        "id": "D8Rcf38iu0Lf"
      }
    },
    {
      "cell_type": "code",
      "source": [
        "# Example content-based similarity calculation\n",
        "from sklearn.feature_extraction.text import TfidfVectorizer\n",
        "from sklearn.metrics.pairwise import cosine_similarity\n",
        "\n",
        "# Assume 'features' is a list of feature descriptions\n",
        "tfidf_vectorizer = TfidfVectorizer()\n",
        "feature_matrix = tfidf_vectorizer.fit_transform(features)\n",
        "content_similarity = cosine_similarity(feature_matrix)\n"
      ],
      "metadata": {
        "id": "T9LD-7YZuHJw"
      },
      "execution_count": null,
      "outputs": []
    },
    {
      "cell_type": "markdown",
      "source": [
        "**Collaborative Filtering:**\n",
        "Calculate user-user or item-item similarities based on user ratings.\n",
        "\n",
        "Common methods include cosine similarity or Pearson correlation.\n",
        "\n",
        "Predict user preferences for unrated features using neighbors’ ratings."
      ],
      "metadata": {
        "id": "giArrkq0vlt2"
      }
    },
    {
      "cell_type": "code",
      "source": [
        "# Example collaborative filtering\n",
        "from sklearn.metrics.pairwise import pairwise_distances\n",
        "\n",
        "# Assume 'user_ratings' is a user-item interaction matrix\n",
        "user_similarity = 1 - pairwise_distances(user_ratings, metric='cosine')\n",
        "item_similarity = 1 - pairwise_distances(user_ratings.T, metric='cosine')\n",
        "def train_model(data):\n",
        "    # Calculate user-user similarity using cosine similarity\n",
        "    similarity_matrix = cosine_similarity(data)\n",
        "    return similarity_matrix"
      ],
      "metadata": {
        "id": "pc1leAzivqoc"
      },
      "execution_count": null,
      "outputs": []
    },
    {
      "cell_type": "code",
      "source": [
        "from surprise import Dataset, Reader\n",
        "from surprise.model_selection import train_test_split\n",
        "from surprise import SVD\n",
        "\n",
        "\n",
        "reader = Reader(rating_scale=(0, 1))\n",
        "data = Dataset.load_from_df(df[['User', 'Feature', 'Rating']], reader)\n",
        "\n",
        "# Split the data into training and test sets\n",
        "trainset, testset = train_test_split(data, test_size=0.2)\n",
        "\n",
        "\n",
        "model = SVD()\n",
        "model.fit(trainset)"
      ],
      "metadata": {
        "id": "TGDjnS5Tz3Ko"
      },
      "execution_count": null,
      "outputs": []
    },
    {
      "cell_type": "markdown",
      "source": [
        "**Hybrid Approach:**\n",
        "Combine content-based and collaborative filtering scores.\n",
        "Weight the two approaches based on their relative importance (e.g., 70% content-based, 30% collaborative)."
      ],
      "metadata": {
        "id": "bu9k0bQgwE91"
      }
    },
    {
      "cell_type": "code",
      "source": [
        "# Example hybrid recommendation\n",
        "hybrid_scores = 0.7 * content_similarity + 0.3 * user_similarity\n",
        "# Hybrid Recommendation\n",
        "def hybrid_recommendation(history, q_table, feature_categories, cf_model):\n",
        "    current_state = state_from_pattern(history[-1])\n",
        "    action_rl = np.argmax(q_table[current_state])  # RL-based action\n",
        "    # Collaborative Filtering or Content-Based Filtering for additional recommendations\n",
        "    # Replace this part with your CF or content-based filtering logic\n",
        "    cf_recommendations = cf_model(history)  # Example: Collaborative Filtering recommendations\n",
        "    hybrid_recommendations = cf_recommendations[:3]  # Choose top CF recommendations\n",
        "\n",
        "    # Determine whether to include RL-based recommendation or not\n",
        "    if action_rl == 1:\n",
        "        hybrid_recommendations.append(\"Feature suggested by RL\")\n",
        "\n",
        "    return hybrid_recommendations\n"
      ],
      "metadata": {
        "id": "H_u8vTOswEqX"
      },
      "execution_count": null,
      "outputs": []
    },
    {
      "cell_type": "markdown",
      "source": [
        "**Recommendations**\n",
        "\n",
        "**User Similarity:** Find similar users to the current user to determine what features they might prefer next.\n",
        "\n",
        "**Predictions:** Predict the preferences for new features based on the preferences of similar users. This could involve weighted averages or other methods to generate predictions.\n",
        "\n",
        "**Recommendation Generation:** Recommend the top N features that the user is likely to be interested in based on the predictions.\n",
        "\n",
        "For a given user, recommend features based on hybrid scores.\n",
        "Sort features by hybrid scores and present the top-k recommendations."
      ],
      "metadata": {
        "id": "sfjzDCZ-u4XP"
      }
    },
    {
      "cell_type": "code",
      "source": [
        "# Example recommendation for user_id\n",
        "user_id = 0\n",
        "recommended_feature_indices = np.argsort(hybrid_scores[user_id])[::-1]\n",
        "recommended_features = [features[i] for i in recommended_feature_indices[:k]]\n",
        "print(\"Recommended features for user\", user_id, \":\", recommended_features)\n"
      ],
      "metadata": {
        "id": "bc-N-yVnu3-S"
      },
      "execution_count": null,
      "outputs": []
    },
    {
      "cell_type": "markdown",
      "source": [
        "**Feature Complexity (Cost):** The length of the NL description can be an indicator of complexity. Longer descriptions might imply higher development or implementation costs. For RL, longer descriptions could imply higher \"costs\" associated with implementing that feature.\n",
        "\n",
        "**Feature Novelty (Value):** Textual familiarity or uniqueness of a feature compared to prior ones can represent the novelty or value of the feature. NL similarity measures (like cosine similarity) between feature descriptions can help quantify novelty. Features that are more dissimilar from past ones might be considered more valuable.\n",
        "\n",
        "**Risk Level:** Repeatedness or textual similarity among features can indicate the risk associated with implementing a new feature. Higher similarity to existing features might indicate lower risk, while a high degree of dissimilarity could imply higher risk."
      ],
      "metadata": {
        "id": "DNxAXgHxwTyS"
      }
    },
    {
      "cell_type": "code",
      "source": [
        "\n",
        "# Example calculation of attributes\n",
        "# 1. Complexity (Cost): Use the length of NL description\n",
        "feature_costs = [len(description.split()) for description in feature_descriptions]\n",
        "\n",
        "# 2. Novelty (Value): Calculate novelty based on cosine similarity\n",
        "# For each feature, calculate average similarity to other features\n",
        "feature_novelty = [np.mean(cosine_sim[i]) for i in range(len(feature_descriptions))]\n",
        "\n",
        "# 3. Risk Level: Use standard deviation of cosine similarity\n",
        "risk_levels = [np.std(cosine_sim[i]) for i in range(len(feature_descriptions))]"
      ],
      "metadata": {
        "id": "llCtrIzgyLso"
      },
      "execution_count": null,
      "outputs": []
    },
    {
      "cell_type": "markdown",
      "source": [
        "**Feature Recommendation:**\n",
        "\n",
        "For a given user, recommend features based on hybrid scores.\n",
        "Sort features by hybrid scores and present the top-k recommendations."
      ],
      "metadata": {
        "id": "_51Ax03Oy1iJ"
      }
    },
    {
      "cell_type": "code",
      "source": [
        "def recommend():\n",
        "    user_id = request.json['user_id']  # Extract user ID from request\n",
        "    # Load preprocessed feature data\n",
        "    data = load_data()\n",
        "    # Train the model\n",
        "    similarity_matrix = train_model(data)\n",
        "    # Perform recommendation for the given user\n",
        "    recommended_features = perform_recommendation(similarity_matrix, user_id)\n",
        "    return jsonify({'recommended_features': recommended_features.tolist()})\n",
        "\n",
        "# Function to generate recommendations based on similarity matrix\n",
        "def perform_recommendation(similarity_matrix, user_id):\n",
        "    user_similarity = similarity_matrix[user_id]\n",
        "    user_features = data[user_id]  # Get user's feature preferences\n",
        "    predicted_preferences = np.dot(user_similarity, data) / np.sum(np.abs(user_similarity))\n",
        "    predicted_preferences -= user_features\n",
        "    top_indices = np.argsort(predicted_preferences)[::-1][:5]  # Top 5 recommendations\n",
        "    return top_indices"
      ],
      "metadata": {
        "id": "vrlS2Ilgy2Pd"
      },
      "execution_count": null,
      "outputs": []
    },
    {
      "cell_type": "markdown",
      "source": [
        "**Evaluation Metrics**:\n",
        "\n",
        "Evaluate the recommendation system using metrics like precision, recall, F1-score, and coverage.\n",
        "\n",
        "Compare against baselines (e.g., global popularity, content-based, collaborative filtering)."
      ],
      "metadata": {
        "id": "IboljTwg0M-F"
      }
    },
    {
      "cell_type": "code",
      "source": [
        "# Get predictions for the test set\n",
        "predictions = algo.test(test_set)\n",
        "\n",
        "# Example evaluation metrics calculation using Surprise library\n",
        "from surprise.accuracy import precision_at_k, recall_at_k, f1_score, coverage\n",
        "\n",
        "# Calculate precision at k\n",
        "k = 5  # Example value of k for precision at k\n",
        "precision = precision_at_k(predictions, k, threshold=3.5)\n",
        "\n",
        "# Calculate recall at k\n",
        "recall = recall_at_k(predictions, k, threshold=3.5)\n",
        "\n",
        "# Calculate F1-score\n",
        "f1 = f1_score(predictions, threshold=3.5)\n",
        "\n",
        "# Calculate coverage\n",
        "trainset = data.build_full_trainset()\n",
        "algo.fit(trainset)\n",
        "coverage_result = coverage(algo, trainset, k=5, threshold=3.5)\n",
        "\n",
        "# Display results\n",
        "print(f\"Precision@{k}: {precision}\")\n",
        "print(f\"Recall@{k}: {recall}\")\n",
        "print(f\"F1-score: {f1}\")\n",
        "print(f\"Coverage: {coverage_result}\")"
      ],
      "metadata": {
        "id": "zEs04hxw0NYx"
      },
      "execution_count": null,
      "outputs": []
    },
    {
      "cell_type": "markdown",
      "source": [
        "**Continuous Improvement:**\n",
        "\n",
        "Monitor user feedback and update the model periodically.\n",
        "Consider incorporating real-time user interactions for dynamic recommendations."
      ],
      "metadata": {
        "id": "hrLVCuaD0Yl9"
      }
    },
    {
      "cell_type": "code",
      "source": [
        "# Example: Recommend features based on the last historical pattern\n",
        "last_history_index = len(history) - 1\n",
        "recommendations = recommend_features(cosine_sim, history_strings, last_history_index)\n",
        "print(\"Recommended feature(s):\", recommendations)\n"
      ],
      "metadata": {
        "id": "eE_9eB1F0ED0"
      },
      "execution_count": null,
      "outputs": []
    },
    {
      "cell_type": "code",
      "source": [
        "import numpy as np\n",
        "import torch\n",
        "import torch.nn as nn\n",
        "import torch.optim as optim\n",
        "import torch.nn.functional as F\n",
        "\n",
        "class VideoConferencingRecommendation:\n",
        "    def __init__(self, features, user_ratings, obs_dim, act_dim):\n",
        "        self.features = features  # Feature descriptions (content-based)\n",
        "        self.user_ratings = user_ratings  # User-item interaction matrix (collaborative filtering)\n",
        "        self.obs_dim = obs_dim  # Dimension of observation/state space\n",
        "        self.act_dim = act_dim  # Dimension of action space\n",
        "\n",
        "        # Create a simple deterministic policy network\n",
        "        self.pi_net = nn.Sequential(\n",
        "            nn.Linear(obs_dim, 64),\n",
        "            nn.Tanh(),\n",
        "            nn.Linear(64, 64),\n",
        "            nn.Tanh(),\n",
        "            nn.Linear(64, act_dim)\n",
        "        )\n",
        "\n",
        "    def content_based_similarity(self):\n",
        "        # Compute content-based similarity matrix\n",
        "        content_matrix = np.array([feature_vector for feature_vector in self.features])\n",
        "        content_similarity = np.dot(content_matrix, content_matrix.T)\n",
        "        return content_similarity\n",
        "\n",
        "    def collaborative_filtering(self, user_id):\n",
        "        # Collaborative filtering: Recommend features based on user ratings\n",
        "        user_vector = self.user_ratings[user_id]\n",
        "        collaborative_scores = np.dot(self.user_ratings, user_vector) / np.linalg.norm(user_vector)\n",
        "        return collaborative_scores\n",
        "\n",
        "    def hybrid_recommendation(self, user_id, observation):\n",
        "        # Combine content-based and collaborative filtering scores\n",
        "        content_similarity = self.content_based_similarity()\n",
        "        collaborative_scores = self.collaborative_filtering(user_id)\n",
        "        hybrid_scores = 0.7 * content_similarity + 0.3 * collaborative_scores\n",
        "\n",
        "        # Get action (feature recommendation) from the policy network\n",
        "        observation_tensor = torch.tensor(observation, dtype=torch.float32)\n",
        "        action_probs = F.softmax(self.pi_net(observation_tensor), dim=-1)\n",
        "        recommended_feature_index = torch.argmax(action_probs).item()\n",
        "        recommended_feature = self.features[recommended_feature_index]\n",
        "\n",
        "        # Reward based on user preference\n",
        "        user_preference = self.user_ratings[user_id][recommended_feature_index]\n",
        "        reward = 1 if user_preference > 0 else -1  # Liked: +1, Disliked: -1\n",
        "\n",
        "        return recommended_feature, reward\n",
        "\n",
        "# Example usage\n",
        "if __name__ == \"__main__\":\n",
        "    features = [\n",
        "        \"Screen sharing\",\n",
        "        \"Chat\",\n",
        "        \"Recording\",\n",
        "        # ... other features ...\n",
        "    ]\n",
        "    user_ratings = np.random.rand(10, len(features))  # Random user-item interaction matrix\n",
        "    obs_dim = len(features)  # Dimension of observation/state space\n",
        "    act_dim = len(features)  # Dimension of action space\n",
        "\n",
        "    recommender = VideoConferencingRecommendation(features, user_ratings, obs_dim, act_dim)\n",
        "    user_id = 121\n",
        "    observation = np.random.rand(obs_dim)\n",
        "    recommended_feature, reward = recommender.hybrid_recommendation(user_id, observation)\n",
        "\n",
        "    print(\"Recommended feature for user\", user_id, \":\", recommended_feature)\n",
        "    print(\"Reward:\", reward)\n"
      ],
      "metadata": {
        "id": "9yvb0WCR0t0o"
      },
      "execution_count": null,
      "outputs": []
    },
    {
      "cell_type": "markdown",
      "source": [
        "**RL Applied to SRP**"
      ],
      "metadata": {
        "id": "txkhkcA11Inx"
      }
    },
    {
      "cell_type": "code",
      "source": [
        "# Example: Prioritizing features for different releases based on importance scores\n",
        "\n",
        "# Have a dictionary of features with their importance scores\n",
        "features = {\n",
        "    \"Feature A\": 0.8,\n",
        "    \"Feature B\": 0.6,\n",
        "    \"Feature C\": 0.7,\n",
        "    \"Feature D\": 0.5,\n",
        "}\n",
        "\n",
        "# Sort features by importance scores (higher scores first)\n",
        "sorted_features = sorted(features.items(), key=lambda x: x[1], reverse=True)\n",
        "\n",
        "# Number of releases (e.g., 3 releases)\n",
        "num_releases = 3\n",
        "\n",
        "# Determine number of features in each release\n",
        "features_per_release = len(sorted_features) // num_releases\n",
        "\n",
        "# Assign features to different releases based on their importance scores\n",
        "release_features = {}\n",
        "start_idx = 0\n",
        "for release_idx in range(num_releases):\n",
        "    end_idx = start_idx + features_per_release if release_idx < num_releases - 1 else None\n",
        "    release_features[f\"Release {release_idx + 1}\"] = sorted_features[start_idx:end_idx]\n",
        "    start_idx = end_idx\n",
        "\n",
        "# Print features for each release\n",
        "for release, feat_list in release_features.items():\n",
        "    print(f\"{release}:\")\n",
        "    for feature, importance in feat_list:\n",
        "        print(f\"{feature}: {importance}\")\n",
        "    print()\n"
      ],
      "metadata": {
        "id": "UKtodysp1LNt"
      },
      "execution_count": null,
      "outputs": []
    }
  ]
}